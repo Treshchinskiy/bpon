{
 "cells": [
  {
   "cell_type": "code",
   "execution_count": 1,
   "metadata": {},
   "outputs": [],
   "source": [
    "import numpy as np\n",
    "import matplotlib.pyplot as plt\n",
    "import seaborn as sns\n",
    "import pandas as pd\n",
    "from keras.layers import Dense\n",
    "from keras.models import Sequential\n",
    "import tensorflow as tf\n",
    "#посмотреть что такое эпохи при обучении нейронок"
   ]
  },
  {
   "cell_type": "code",
   "execution_count": 2,
   "metadata": {},
   "outputs": [],
   "source": [
    "from keras.datasets import boston_housing\n",
    "#предсказываем стоимость дома\n",
    "(X_train,y_train),(X_test,y_test)=boston_housing.load_data()\n"
   ]
  },
  {
   "cell_type": "code",
   "execution_count": 3,
   "metadata": {},
   "outputs": [
    {
     "data": {
      "text/plain": [
       "array([[  1.23247,   0.     ,   8.14   ,   0.     ,   0.538  ,   6.142  ,\n",
       "         91.7    ,   3.9769 ,   4.     , 307.     ,  21.     , 396.9    ,\n",
       "         18.72   ]])"
      ]
     },
     "execution_count": 3,
     "metadata": {},
     "output_type": "execute_result"
    }
   ],
   "source": [
    "X_train[:1]"
   ]
  },
  {
   "cell_type": "code",
   "execution_count": 4,
   "metadata": {},
   "outputs": [
    {
     "data": {
      "text/plain": [
       "array([1., 1., 1., 1., 1., 1., 1., 1., 1., 1., 1., 1., 1.])"
      ]
     },
     "execution_count": 4,
     "metadata": {},
     "output_type": "execute_result"
    }
   ],
   "source": [
    "#делаем масшабирование(зачем-то вручну...)\n",
    "\n",
    "mean=X_train.mean(axis=0)\n",
    "std=X_train.std(axis=0)\n",
    "\n",
    "X_train-=mean\n",
    "X_train/=std\n",
    "\n",
    "X_test-=mean\n",
    "X_test/=std\n",
    "\n",
    "X_train.std(axis=0)"
   ]
  },
  {
   "cell_type": "code",
   "execution_count": 5,
   "metadata": {},
   "outputs": [
    {
     "name": "stdout",
     "output_type": "stream",
     "text": [
      "Model: \"sequential\"\n",
      "_________________________________________________________________\n",
      " Layer (type)                Output Shape              Param #   \n",
      "=================================================================\n",
      " dense (Dense)               (None, 32)                448       \n",
      "                                                                 \n",
      " dense_1 (Dense)             (None, 16)                528       \n",
      "                                                                 \n",
      " dense_2 (Dense)             (None, 1)                 17        \n",
      "                                                                 \n",
      "=================================================================\n",
      "Total params: 993 (3.88 KB)\n",
      "Trainable params: 993 (3.88 KB)\n",
      "Non-trainable params: 0 (0.00 Byte)\n",
      "_________________________________________________________________\n"
     ]
    }
   ],
   "source": [
    "model=Sequential()\n",
    "\n",
    "model.add(Dense(32,activation='relu',input_shape=(X_train.shape[1],)))\n",
    "model.add(Dense(16,activation='relu'))\n",
    "model.add(Dense(1))\n",
    "\n",
    "model.summary()"
   ]
  },
  {
   "cell_type": "code",
   "execution_count": 6,
   "metadata": {},
   "outputs": [],
   "source": [
    "model.compile(optimizer='adam',loss='mse',metrics=['mae'])"
   ]
  },
  {
   "cell_type": "code",
   "execution_count": 7,
   "metadata": {},
   "outputs": [
    {
     "name": "stdout",
     "output_type": "stream",
     "text": [
      "Epoch 1/10\n",
      "13/13 [==============================] - 2s 6ms/step - loss: 593.5506 - mae: 22.5296\n",
      "Epoch 2/10\n",
      "13/13 [==============================] - 0s 3ms/step - loss: 571.4695 - mae: 22.0461\n",
      "Epoch 3/10\n",
      "13/13 [==============================] - 0s 1ms/step - loss: 551.4896 - mae: 21.5976\n",
      "Epoch 4/10\n",
      "13/13 [==============================] - 0s 4ms/step - loss: 529.7669 - mae: 21.1077\n",
      "Epoch 5/10\n",
      "13/13 [==============================] - 0s 4ms/step - loss: 503.4628 - mae: 20.4955\n",
      "Epoch 6/10\n",
      "13/13 [==============================] - 0s 5ms/step - loss: 470.3773 - mae: 19.6803\n",
      "Epoch 7/10\n",
      "13/13 [==============================] - 0s 5ms/step - loss: 428.5022 - mae: 18.6292\n",
      "Epoch 8/10\n",
      "13/13 [==============================] - 0s 5ms/step - loss: 377.7899 - mae: 17.3098\n",
      "Epoch 9/10\n",
      "13/13 [==============================] - 0s 6ms/step - loss: 321.3288 - mae: 15.7364\n",
      "Epoch 10/10\n",
      "13/13 [==============================] - 0s 6ms/step - loss: 261.0097 - mae: 13.9049\n"
     ]
    },
    {
     "data": {
      "text/plain": [
       "<keras.src.callbacks.History at 0x1f58538ac90>"
      ]
     },
     "execution_count": 7,
     "metadata": {},
     "output_type": "execute_result"
    }
   ],
   "source": [
    "#обучение\n",
    "\n",
    "num_epochs=10\n",
    "\n",
    "model.fit(X_train,y_train,epochs=num_epochs)\n",
    "\n",
    "#в каждой эпохе как мы видимо 13 итераций\n",
    "#13 бачей(кусков) данных которые мы туда запихиваем каждую итерацию"
   ]
  },
  {
   "cell_type": "code",
   "execution_count": 8,
   "metadata": {},
   "outputs": [
    {
     "name": "stdout",
     "output_type": "stream",
     "text": [
      "Epoch 1/10\n",
      "7/7 [==============================] - 0s 4ms/step - loss: 215.6071 - mae: 12.3877\n",
      "Epoch 2/10\n",
      "7/7 [==============================] - 0s 5ms/step - loss: 184.9313 - mae: 11.2533\n",
      "Epoch 3/10\n",
      "7/7 [==============================] - 0s 8ms/step - loss: 156.8805 - mae: 10.1353\n",
      "Epoch 4/10\n",
      "7/7 [==============================] - 0s 6ms/step - loss: 132.6913 - mae: 9.0827\n",
      "Epoch 5/10\n",
      "7/7 [==============================] - 0s 5ms/step - loss: 110.8859 - mae: 8.0880\n",
      "Epoch 6/10\n",
      "7/7 [==============================] - 0s 6ms/step - loss: 94.6545 - mae: 7.3196\n",
      "Epoch 7/10\n",
      "7/7 [==============================] - 0s 6ms/step - loss: 81.9903 - mae: 6.7111\n",
      "Epoch 8/10\n",
      "7/7 [==============================] - 0s 6ms/step - loss: 71.8603 - mae: 6.2476\n",
      "Epoch 9/10\n",
      "7/7 [==============================] - 0s 6ms/step - loss: 64.5736 - mae: 5.8620\n",
      "Epoch 10/10\n",
      "7/7 [==============================] - 0s 6ms/step - loss: 58.8678 - mae: 5.5679\n"
     ]
    },
    {
     "data": {
      "text/plain": [
       "<keras.src.callbacks.History at 0x1f586543c50>"
      ]
     },
     "execution_count": 8,
     "metadata": {},
     "output_type": "execute_result"
    }
   ],
   "source": [
    "#по умолчанию batch_size равен None и в этом случае он берется за 32\n",
    "#у нас 404 обьекта в выборке поэтому получаем все сходится\n",
    "#эти штуки нужны чтобы не было ошибок по памяти\n",
    "\n",
    "num_epochs=10\n",
    "\n",
    "model.fit(X_train,y_train,epochs=num_epochs,batch_size=64)\n",
    "\n"
   ]
  },
  {
   "cell_type": "code",
   "execution_count": 9,
   "metadata": {},
   "outputs": [
    {
     "name": "stdout",
     "output_type": "stream",
     "text": [
      "Epoch 1/10\n",
      "20/20 [==============================] - 0s 5ms/step - loss: 50.9052 - mae: 5.1385\n",
      "Epoch 2/10\n",
      "20/20 [==============================] - 0s 5ms/step - loss: 42.0368 - mae: 4.6021\n",
      "Epoch 3/10\n",
      "20/20 [==============================] - 0s 5ms/step - loss: 36.3511 - mae: 4.2721\n",
      "Epoch 4/10\n",
      "20/20 [==============================] - 0s 5ms/step - loss: 32.4893 - mae: 4.0259\n",
      "Epoch 5/10\n",
      "20/20 [==============================] - 0s 8ms/step - loss: 30.1225 - mae: 3.8971\n",
      "Epoch 6/10\n",
      "20/20 [==============================] - 0s 4ms/step - loss: 27.8336 - mae: 3.7682\n",
      "Epoch 7/10\n",
      "20/20 [==============================] - 0s 5ms/step - loss: 26.3087 - mae: 3.6439\n",
      "Epoch 8/10\n",
      "20/20 [==============================] - 0s 6ms/step - loss: 25.1048 - mae: 3.5692\n",
      "Epoch 9/10\n",
      "20/20 [==============================] - 0s 6ms/step - loss: 24.0652 - mae: 3.5041\n",
      "Epoch 10/10\n",
      "20/20 [==============================] - 0s 3ms/step - loss: 23.0563 - mae: 3.4397\n"
     ]
    },
    {
     "data": {
      "text/plain": [
       "<keras.src.callbacks.History at 0x1f5da595ed0>"
      ]
     },
     "execution_count": 9,
     "metadata": {},
     "output_type": "execute_result"
    }
   ],
   "source": [
    "#теперь про количество шагов в одну эпоху(сверху где 7)\n",
    "#по умолчанию равна размеру выборке / размер бача\n",
    "\n",
    "num_epochs=10\n",
    "\n",
    "model.fit(X_train,y_train,epochs=num_epochs,\n",
    "          steps_per_epoch=20)\n",
    "#тут батч высчитывается самостоятельно\n",
    "\n"
   ]
  },
  {
   "cell_type": "code",
   "execution_count": 10,
   "metadata": {},
   "outputs": [
    {
     "name": "stdout",
     "output_type": "stream",
     "text": [
      "Epoch 1/10\n",
      "323/323 [==============================] - 2s 6ms/step - loss: 21.8378 - mae: 3.3004 - val_loss: 17.5974 - val_mae: 3.2743\n",
      "Epoch 2/10\n",
      "323/323 [==============================] - 1s 4ms/step - loss: 18.0270 - mae: 3.0500 - val_loss: 14.9488 - val_mae: 3.0211\n",
      "Epoch 3/10\n",
      "323/323 [==============================] - 1s 4ms/step - loss: 15.8876 - mae: 2.8450 - val_loss: 14.5551 - val_mae: 2.9859\n",
      "Epoch 4/10\n",
      "323/323 [==============================] - 1s 5ms/step - loss: 14.5753 - mae: 2.6908 - val_loss: 12.3279 - val_mae: 2.6734\n",
      "Epoch 5/10\n",
      "323/323 [==============================] - 2s 5ms/step - loss: 13.1586 - mae: 2.5930 - val_loss: 11.7232 - val_mae: 2.6662\n",
      "Epoch 6/10\n",
      "323/323 [==============================] - 2s 5ms/step - loss: 12.0789 - mae: 2.4716 - val_loss: 11.5194 - val_mae: 2.6854\n",
      "Epoch 7/10\n",
      "323/323 [==============================] - 2s 5ms/step - loss: 11.3688 - mae: 2.3629 - val_loss: 11.2835 - val_mae: 2.5041\n",
      "Epoch 8/10\n",
      "323/323 [==============================] - 2s 5ms/step - loss: 10.9520 - mae: 2.3252 - val_loss: 11.4026 - val_mae: 2.6366\n",
      "Epoch 9/10\n",
      "323/323 [==============================] - 1s 5ms/step - loss: 10.3116 - mae: 2.2155 - val_loss: 11.7830 - val_mae: 2.6683\n",
      "Epoch 10/10\n",
      "323/323 [==============================] - 1s 5ms/step - loss: 10.0521 - mae: 2.2462 - val_loss: 11.8750 - val_mae: 2.5625\n"
     ]
    },
    {
     "data": {
      "text/plain": [
       "<keras.src.callbacks.History at 0x1f5854df110>"
      ]
     },
     "execution_count": 10,
     "metadata": {},
     "output_type": "execute_result"
    }
   ],
   "source": [
    "#8:40\n",
    "\n",
    "#validation_split  - доля данных которая будет использоваться как валидационная часть\n",
    "#Модель возьмет эту долю и не будет на ней обучаться а будет подсчитывать\n",
    "#метрики и функцию потерь в конце каждой эпохи \n",
    "\n",
    "num_epochs=10\n",
    "\n",
    "model.fit(X_train,y_train,epochs=num_epochs,batch_size=1,validation_split=0.2)\n",
    "\n",
    "#20 % обьектов пойдут на проверку"
   ]
  },
  {
   "cell_type": "code",
   "execution_count": 11,
   "metadata": {},
   "outputs": [
    {
     "name": "stdout",
     "output_type": "stream",
     "text": [
      "Epoch 1/10\n",
      "404/404 [==============================] - 2s 5ms/step - loss: 9.6897 - mae: 2.2071 - val_loss: 20.9374 - val_mae: 3.2164\n",
      "Epoch 2/10\n",
      "404/404 [==============================] - 2s 5ms/step - loss: 9.7136 - mae: 2.2741 - val_loss: 20.8907 - val_mae: 2.9983\n",
      "Epoch 3/10\n",
      "404/404 [==============================] - 2s 5ms/step - loss: 9.3498 - mae: 2.1479 - val_loss: 20.2851 - val_mae: 2.9752\n",
      "Epoch 4/10\n",
      "404/404 [==============================] - 2s 5ms/step - loss: 9.1058 - mae: 2.1310 - val_loss: 22.0595 - val_mae: 3.0061\n",
      "Epoch 5/10\n",
      "404/404 [==============================] - 2s 5ms/step - loss: 8.7919 - mae: 2.0825 - val_loss: 19.5795 - val_mae: 2.8824\n",
      "Epoch 6/10\n",
      "404/404 [==============================] - 2s 4ms/step - loss: 8.8403 - mae: 2.1127 - val_loss: 23.5609 - val_mae: 3.1537\n",
      "Epoch 7/10\n",
      "404/404 [==============================] - 2s 5ms/step - loss: 8.7592 - mae: 2.1141 - val_loss: 19.1089 - val_mae: 2.8519\n",
      "Epoch 8/10\n",
      "404/404 [==============================] - 2s 5ms/step - loss: 8.5373 - mae: 2.0639 - val_loss: 21.8001 - val_mae: 3.0777\n",
      "Epoch 9/10\n",
      "404/404 [==============================] - 2s 5ms/step - loss: 8.6243 - mae: 2.0850 - val_loss: 19.9060 - val_mae: 2.8089\n",
      "Epoch 10/10\n",
      "404/404 [==============================] - 2s 5ms/step - loss: 8.1355 - mae: 2.0050 - val_loss: 20.2932 - val_mae: 2.8004\n"
     ]
    },
    {
     "data": {
      "text/plain": [
       "<keras.src.callbacks.History at 0x1f58653dcd0>"
      ]
     },
     "execution_count": 11,
     "metadata": {},
     "output_type": "execute_result"
    }
   ],
   "source": [
    "#validation_data - не разбиваем наши данные а используем для проверки просто другие\n",
    "\n",
    "num_epochs=10\n",
    "\n",
    "model.fit(X_train,y_train,epochs=num_epochs,batch_size=1,\n",
    "          validation_data=(X_test,y_test))\n"
   ]
  },
  {
   "cell_type": "code",
   "execution_count": 12,
   "metadata": {},
   "outputs": [
    {
     "name": "stdout",
     "output_type": "stream",
     "text": [
      "Epoch 1/10\n",
      "404/404 [==============================] - 2s 5ms/step - loss: 8.0551 - mae: 2.0020 - val_loss: 18.6252 - val_mae: 2.8038\n",
      "Epoch 2/10\n",
      "404/404 [==============================] - 2s 4ms/step - loss: 7.8890 - mae: 2.0193 - val_loss: 18.5397 - val_mae: 2.7764\n",
      "Epoch 3/10\n",
      "404/404 [==============================] - 2s 5ms/step - loss: 7.6898 - mae: 1.9789 - val_loss: 17.8727 - val_mae: 2.8527\n",
      "Epoch 4/10\n",
      "404/404 [==============================] - 2s 4ms/step - loss: 7.9638 - mae: 1.9707 - val_loss: 20.4118 - val_mae: 2.8124\n",
      "Epoch 5/10\n",
      "404/404 [==============================] - 2s 4ms/step - loss: 7.6373 - mae: 1.9789 - val_loss: 21.5559 - val_mae: 2.8704\n",
      "Epoch 6/10\n",
      "404/404 [==============================] - 2s 4ms/step - loss: 7.5392 - mae: 1.9323 - val_loss: 21.2528 - val_mae: 3.1465\n",
      "Epoch 7/10\n",
      "404/404 [==============================] - 2s 4ms/step - loss: 7.4055 - mae: 1.9326 - val_loss: 21.9737 - val_mae: 3.0549\n",
      "Epoch 8/10\n",
      "404/404 [==============================] - 1s 3ms/step - loss: 7.5683 - mae: 1.9630 - val_loss: 22.4023 - val_mae: 3.0369\n",
      "Epoch 9/10\n",
      "404/404 [==============================] - 2s 4ms/step - loss: 7.1929 - mae: 1.9120 - val_loss: 19.5736 - val_mae: 2.8179\n",
      "Epoch 10/10\n",
      "404/404 [==============================] - 2s 4ms/step - loss: 7.2464 - mae: 1.8946 - val_loss: 17.4112 - val_mae: 2.7239\n"
     ]
    },
    {
     "data": {
      "text/plain": [
       "<keras.src.callbacks.History at 0x1f58538bc50>"
      ]
     },
     "execution_count": 12,
     "metadata": {},
     "output_type": "execute_result"
    }
   ],
   "source": [
    "#validation_batch_size - очевидно(бачи для наших датасетов на которых мы проверяемся)\n",
    "\n",
    "\n",
    "model.fit(X_train,y_train,epochs=num_epochs,batch_size=1,\n",
    "          validation_data=(X_test,y_test),\n",
    "          validation_batch_size=X_test.shape[0])\n"
   ]
  },
  {
   "cell_type": "code",
   "execution_count": 13,
   "metadata": {},
   "outputs": [
    {
     "name": "stdout",
     "output_type": "stream",
     "text": [
      "Epoch 1/10\n"
     ]
    },
    {
     "name": "stdout",
     "output_type": "stream",
     "text": [
      "404/404 [==============================] - 2s 4ms/step - loss: 7.1531 - mae: 1.9088\n",
      "Epoch 2/10\n",
      "404/404 [==============================] - 2s 4ms/step - loss: 6.8565 - mae: 1.8707 - val_loss: 18.2371 - val_mae: 2.7052\n",
      "Epoch 3/10\n",
      "404/404 [==============================] - 2s 4ms/step - loss: 7.0610 - mae: 1.8541\n",
      "Epoch 4/10\n",
      "404/404 [==============================] - 2s 4ms/step - loss: 6.9500 - mae: 1.8342 - val_loss: 18.3167 - val_mae: 2.7679\n",
      "Epoch 5/10\n",
      "404/404 [==============================] - 2s 4ms/step - loss: 6.9387 - mae: 1.8423\n",
      "Epoch 6/10\n",
      "404/404 [==============================] - 2s 5ms/step - loss: 6.3864 - mae: 1.7999 - val_loss: 15.8435 - val_mae: 2.5737\n",
      "Epoch 7/10\n",
      "404/404 [==============================] - 2s 4ms/step - loss: 6.7632 - mae: 1.8390\n",
      "Epoch 8/10\n",
      "404/404 [==============================] - 2s 4ms/step - loss: 6.5218 - mae: 1.8776 - val_loss: 17.7007 - val_mae: 2.6766\n",
      "Epoch 9/10\n",
      "404/404 [==============================] - 2s 4ms/step - loss: 6.7283 - mae: 1.8414\n",
      "Epoch 10/10\n",
      "404/404 [==============================] - 2s 4ms/step - loss: 6.6146 - mae: 1.8486 - val_loss: 15.8276 - val_mae: 2.6465\n"
     ]
    },
    {
     "data": {
      "text/plain": [
       "<keras.src.callbacks.History at 0x1f5878a3c50>"
      ]
     },
     "execution_count": 13,
     "metadata": {},
     "output_type": "execute_result"
    }
   ],
   "source": [
    "#validation_freq -  указываем на каких эпохах нам нужна валидация\n",
    "\n",
    "\n",
    "model.fit(X_train,y_train,epochs=num_epochs,batch_size=1,\n",
    "          validation_data=(X_test,y_test),\n",
    "          validation_batch_size=X_test.shape[0],\n",
    "          validation_freq=2)\n",
    "\n",
    "\n"
   ]
  },
  {
   "cell_type": "code",
   "execution_count": 14,
   "metadata": {},
   "outputs": [],
   "source": [
    "#Обучение нейросети на генераторах\n",
    "\n",
    "#это обьекты которые позволяют 'зашить' в себя batch-size \n",
    "\n",
    "from keras.utils import Sequence\n",
    "\n",
    "class DataGeneration(Sequence):\n",
    "    pass\n",
    "\n"
   ]
  },
  {
   "cell_type": "code",
   "execution_count": null,
   "metadata": {},
   "outputs": [],
   "source": []
  }
 ],
 "metadata": {
  "kernelspec": {
   "display_name": "Python 3",
   "language": "python",
   "name": "python3"
  },
  "language_info": {
   "codemirror_mode": {
    "name": "ipython",
    "version": 3
   },
   "file_extension": ".py",
   "mimetype": "text/x-python",
   "name": "python",
   "nbconvert_exporter": "python",
   "pygments_lexer": "ipython3",
   "version": "3.11.4"
  }
 },
 "nbformat": 4,
 "nbformat_minor": 2
}
