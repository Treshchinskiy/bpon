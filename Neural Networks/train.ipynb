{
 "cells": [
  {
   "cell_type": "code",
   "execution_count": 78,
   "metadata": {},
   "outputs": [],
   "source": [
    "import numpy as np\n",
    "import matplotlib.pyplot as plt\n",
    "import seaborn as sns\n",
    "import pandas as pd\n",
    "from keras.layers import Dense\n",
    "from keras.models import Sequential\n"
   ]
  },
  {
   "cell_type": "code",
   "execution_count": 79,
   "metadata": {},
   "outputs": [],
   "source": [
    "model=Sequential([\n",
    "    Dense(1,input_shape=(1,),activation='linear')\n",
    "])"
   ]
  },
  {
   "cell_type": "code",
   "execution_count": 80,
   "metadata": {},
   "outputs": [
    {
     "name": "stdout",
     "output_type": "stream",
     "text": [
      "Model: \"sequential_6\"\n",
      "_________________________________________________________________\n",
      " Layer (type)                Output Shape              Param #   \n",
      "=================================================================\n",
      " dense_8 (Dense)             (None, 1)                 2         \n",
      "                                                                 \n",
      "=================================================================\n",
      "Total params: 2 (8.00 Byte)\n",
      "Trainable params: 2 (8.00 Byte)\n",
      "Non-trainable params: 0 (0.00 Byte)\n",
      "_________________________________________________________________\n"
     ]
    }
   ],
   "source": [
    "model.summary()"
   ]
  },
  {
   "cell_type": "code",
   "execution_count": 81,
   "metadata": {},
   "outputs": [],
   "source": [
    "X=np.array([[1],[2],[3]])\n",
    "y=np.array([1,2,3]).T"
   ]
  },
  {
   "cell_type": "code",
   "execution_count": 82,
   "metadata": {},
   "outputs": [
    {
     "name": "stdout",
     "output_type": "stream",
     "text": [
      "Epoch 1/100\n"
     ]
    },
    {
     "name": "stdout",
     "output_type": "stream",
     "text": [
      "1/1 [==============================] - 1s 507ms/step - loss: 0.0160 - mae: 0.1171\n",
      "Epoch 2/100\n",
      "1/1 [==============================] - 0s 9ms/step - loss: 0.0127 - mae: 0.1038\n",
      "Epoch 3/100\n",
      "1/1 [==============================] - 0s 12ms/step - loss: 0.0100 - mae: 0.0920\n",
      "Epoch 4/100\n",
      "1/1 [==============================] - 0s 10ms/step - loss: 0.0079 - mae: 0.0815\n",
      "Epoch 5/100\n",
      "1/1 [==============================] - 0s 5ms/step - loss: 0.0063 - mae: 0.0722\n",
      "Epoch 6/100\n",
      "1/1 [==============================] - 0s 7ms/step - loss: 0.0050 - mae: 0.0639\n",
      "Epoch 7/100\n",
      "1/1 [==============================] - 0s 0s/step - loss: 0.0040 - mae: 0.0566\n",
      "Epoch 8/100\n",
      "1/1 [==============================] - 0s 0s/step - loss: 0.0031 - mae: 0.0500\n",
      "Epoch 9/100\n",
      "1/1 [==============================] - 0s 16ms/step - loss: 0.0025 - mae: 0.0442\n",
      "Epoch 10/100\n",
      "1/1 [==============================] - 0s 16ms/step - loss: 0.0020 - mae: 0.0390\n",
      "Epoch 11/100\n",
      "1/1 [==============================] - 0s 16ms/step - loss: 0.0016 - mae: 0.0344\n",
      "Epoch 12/100\n",
      "1/1 [==============================] - 0s 16ms/step - loss: 0.0013 - mae: 0.0303\n",
      "Epoch 13/100\n",
      "1/1 [==============================] - 0s 18ms/step - loss: 0.0010 - mae: 0.0267\n",
      "Epoch 14/100\n",
      "1/1 [==============================] - 0s 15ms/step - loss: 8.1190e-04 - mae: 0.0234\n",
      "Epoch 15/100\n",
      "1/1 [==============================] - 0s 16ms/step - loss: 6.5460e-04 - mae: 0.0206\n",
      "Epoch 16/100\n",
      "1/1 [==============================] - 0s 17ms/step - loss: 5.3021e-04 - mae: 0.0180\n",
      "Epoch 17/100\n",
      "1/1 [==============================] - 0s 15ms/step - loss: 4.3184e-04 - mae: 0.0163\n",
      "Epoch 18/100\n",
      "1/1 [==============================] - 0s 16ms/step - loss: 3.5401e-04 - mae: 0.0151\n",
      "Epoch 19/100\n",
      "1/1 [==============================] - 0s 0s/step - loss: 2.9242e-04 - mae: 0.0140\n",
      "Epoch 20/100\n",
      "1/1 [==============================] - 0s 1ms/step - loss: 2.4369e-04 - mae: 0.0130\n",
      "Epoch 21/100\n",
      "1/1 [==============================] - 0s 0s/step - loss: 2.0511e-04 - mae: 0.0121\n",
      "Epoch 22/100\n",
      "1/1 [==============================] - 0s 0s/step - loss: 1.7455e-04 - mae: 0.0113\n",
      "Epoch 23/100\n",
      "1/1 [==============================] - 0s 16ms/step - loss: 1.5034e-04 - mae: 0.0106\n",
      "Epoch 24/100\n",
      "1/1 [==============================] - 0s 15ms/step - loss: 1.3114e-04 - mae: 0.0100\n",
      "Epoch 25/100\n",
      "1/1 [==============================] - 0s 11ms/step - loss: 1.1590e-04 - mae: 0.0095\n",
      "Epoch 26/100\n",
      "1/1 [==============================] - 0s 17ms/step - loss: 1.0380e-04 - mae: 0.0090\n",
      "Epoch 27/100\n",
      "1/1 [==============================] - 0s 15ms/step - loss: 9.4173e-05 - mae: 0.0085\n",
      "Epoch 28/100\n",
      "1/1 [==============================] - 0s 24ms/step - loss: 8.6509e-05 - mae: 0.0082\n",
      "Epoch 29/100\n",
      "1/1 [==============================] - 0s 14ms/step - loss: 8.0392e-05 - mae: 0.0078\n",
      "Epoch 30/100\n",
      "1/1 [==============================] - 0s 15ms/step - loss: 7.5498e-05 - mae: 0.0075\n",
      "Epoch 31/100\n",
      "1/1 [==============================] - 0s 16ms/step - loss: 7.1574e-05 - mae: 0.0072\n",
      "Epoch 32/100\n",
      "1/1 [==============================] - 0s 16ms/step - loss: 6.8415e-05 - mae: 0.0070\n",
      "Epoch 33/100\n",
      "1/1 [==============================] - 0s 16ms/step - loss: 6.5860e-05 - mae: 0.0067\n",
      "Epoch 34/100\n",
      "1/1 [==============================] - 0s 32ms/step - loss: 6.3786e-05 - mae: 0.0065\n",
      "Epoch 35/100\n",
      "1/1 [==============================] - 0s 15ms/step - loss: 6.2089e-05 - mae: 0.0065\n",
      "Epoch 36/100\n",
      "1/1 [==============================] - 0s 17ms/step - loss: 6.0691e-05 - mae: 0.0065\n",
      "Epoch 37/100\n",
      "1/1 [==============================] - 0s 16ms/step - loss: 5.9530e-05 - mae: 0.0065\n",
      "Epoch 38/100\n",
      "1/1 [==============================] - 0s 0s/step - loss: 5.8559e-05 - mae: 0.0065\n",
      "Epoch 39/100\n",
      "1/1 [==============================] - 0s 0s/step - loss: 5.7735e-05 - mae: 0.0065\n",
      "Epoch 40/100\n",
      "1/1 [==============================] - 0s 16ms/step - loss: 5.7027e-05 - mae: 0.0065\n",
      "Epoch 41/100\n",
      "1/1 [==============================] - 0s 0s/step - loss: 5.6414e-05 - mae: 0.0065\n",
      "Epoch 42/100\n",
      "1/1 [==============================] - 0s 6ms/step - loss: 5.5874e-05 - mae: 0.0065\n",
      "Epoch 43/100\n",
      "1/1 [==============================] - 0s 10ms/step - loss: 5.5395e-05 - mae: 0.0065\n",
      "Epoch 44/100\n",
      "1/1 [==============================] - 0s 0s/step - loss: 5.4962e-05 - mae: 0.0064\n",
      "Epoch 45/100\n",
      "1/1 [==============================] - 0s 16ms/step - loss: 5.4565e-05 - mae: 0.0064\n",
      "Epoch 46/100\n",
      "1/1 [==============================] - 0s 16ms/step - loss: 5.4198e-05 - mae: 0.0064\n",
      "Epoch 47/100\n",
      "1/1 [==============================] - 0s 16ms/step - loss: 5.3856e-05 - mae: 0.0064\n",
      "Epoch 48/100\n",
      "1/1 [==============================] - 0s 0s/step - loss: 5.3532e-05 - mae: 0.0064\n",
      "Epoch 49/100\n",
      "1/1 [==============================] - 0s 16ms/step - loss: 5.3222e-05 - mae: 0.0064\n",
      "Epoch 50/100\n",
      "1/1 [==============================] - 0s 16ms/step - loss: 5.2925e-05 - mae: 0.0064\n",
      "Epoch 51/100\n",
      "1/1 [==============================] - 0s 16ms/step - loss: 5.2639e-05 - mae: 0.0064\n",
      "Epoch 52/100\n",
      "1/1 [==============================] - 0s 16ms/step - loss: 5.2361e-05 - mae: 0.0063\n",
      "Epoch 53/100\n",
      "1/1 [==============================] - 0s 16ms/step - loss: 5.2089e-05 - mae: 0.0063\n",
      "Epoch 54/100\n",
      "1/1 [==============================] - 0s 17ms/step - loss: 5.1823e-05 - mae: 0.0063\n",
      "Epoch 55/100\n",
      "1/1 [==============================] - 0s 1ms/step - loss: 5.1562e-05 - mae: 0.0063\n",
      "Epoch 56/100\n",
      "1/1 [==============================] - 0s 13ms/step - loss: 5.1304e-05 - mae: 0.0063\n",
      "Epoch 57/100\n",
      "1/1 [==============================] - 0s 16ms/step - loss: 5.1050e-05 - mae: 0.0063\n",
      "Epoch 58/100\n",
      "1/1 [==============================] - 0s 32ms/step - loss: 5.0799e-05 - mae: 0.0063\n",
      "Epoch 59/100\n",
      "1/1 [==============================] - 0s 12ms/step - loss: 5.0549e-05 - mae: 0.0062\n",
      "Epoch 60/100\n",
      "1/1 [==============================] - 0s 14ms/step - loss: 5.0302e-05 - mae: 0.0062\n",
      "Epoch 61/100\n",
      "1/1 [==============================] - 0s 0s/step - loss: 5.0058e-05 - mae: 0.0062\n",
      "Epoch 62/100\n",
      "1/1 [==============================] - 0s 0s/step - loss: 4.9815e-05 - mae: 0.0062\n",
      "Epoch 63/100\n",
      "1/1 [==============================] - 0s 16ms/step - loss: 4.9574e-05 - mae: 0.0062\n",
      "Epoch 64/100\n",
      "1/1 [==============================] - 0s 16ms/step - loss: 4.9335e-05 - mae: 0.0062\n",
      "Epoch 65/100\n",
      "1/1 [==============================] - 0s 24ms/step - loss: 4.9097e-05 - mae: 0.0062\n",
      "Epoch 66/100\n",
      "1/1 [==============================] - 0s 8ms/step - loss: 4.8861e-05 - mae: 0.0061\n",
      "Epoch 67/100\n",
      "1/1 [==============================] - 0s 0s/step - loss: 4.8625e-05 - mae: 0.0061\n",
      "Epoch 68/100\n",
      "1/1 [==============================] - 0s 18ms/step - loss: 4.8391e-05 - mae: 0.0061\n",
      "Epoch 69/100\n",
      "1/1 [==============================] - 0s 8ms/step - loss: 4.8159e-05 - mae: 0.0061\n",
      "Epoch 70/100\n",
      "1/1 [==============================] - 0s 0s/step - loss: 4.7926e-05 - mae: 0.0061\n",
      "Epoch 71/100\n",
      "1/1 [==============================] - 0s 15ms/step - loss: 4.7695e-05 - mae: 0.0061\n",
      "Epoch 72/100\n",
      "1/1 [==============================] - 0s 0s/step - loss: 4.7467e-05 - mae: 0.0061\n",
      "Epoch 73/100\n",
      "1/1 [==============================] - 0s 12ms/step - loss: 4.7239e-05 - mae: 0.0060\n",
      "Epoch 74/100\n",
      "1/1 [==============================] - 0s 0s/step - loss: 4.7011e-05 - mae: 0.0060\n",
      "Epoch 75/100\n",
      "1/1 [==============================] - 0s 15ms/step - loss: 4.6786e-05 - mae: 0.0060\n",
      "Epoch 76/100\n",
      "1/1 [==============================] - 0s 0s/step - loss: 4.6561e-05 - mae: 0.0060\n",
      "Epoch 77/100\n",
      "1/1 [==============================] - 0s 9ms/step - loss: 4.6337e-05 - mae: 0.0060\n",
      "Epoch 78/100\n",
      "1/1 [==============================] - 0s 0s/step - loss: 4.6115e-05 - mae: 0.0060\n",
      "Epoch 79/100\n",
      "1/1 [==============================] - 0s 12ms/step - loss: 4.5893e-05 - mae: 0.0060\n",
      "Epoch 80/100\n",
      "1/1 [==============================] - 0s 8ms/step - loss: 4.5672e-05 - mae: 0.0059\n",
      "Epoch 81/100\n",
      "1/1 [==============================] - 0s 14ms/step - loss: 4.5452e-05 - mae: 0.0059\n",
      "Epoch 82/100\n",
      "1/1 [==============================] - 0s 0s/step - loss: 4.5235e-05 - mae: 0.0059\n",
      "Epoch 83/100\n",
      "1/1 [==============================] - 0s 16ms/step - loss: 4.5017e-05 - mae: 0.0059\n",
      "Epoch 84/100\n",
      "1/1 [==============================] - 0s 18ms/step - loss: 4.4801e-05 - mae: 0.0059\n",
      "Epoch 85/100\n",
      "1/1 [==============================] - 0s 7ms/step - loss: 4.4587e-05 - mae: 0.0059\n",
      "Epoch 86/100\n",
      "1/1 [==============================] - 0s 0s/step - loss: 4.4372e-05 - mae: 0.0059\n",
      "Epoch 87/100\n",
      "1/1 [==============================] - 0s 14ms/step - loss: 4.4159e-05 - mae: 0.0058\n",
      "Epoch 88/100\n",
      "1/1 [==============================] - 0s 7ms/step - loss: 4.3947e-05 - mae: 0.0058\n",
      "Epoch 89/100\n",
      "1/1 [==============================] - 0s 10ms/step - loss: 4.3736e-05 - mae: 0.0058\n",
      "Epoch 90/100\n",
      "1/1 [==============================] - 0s 0s/step - loss: 4.3526e-05 - mae: 0.0058\n",
      "Epoch 91/100\n",
      "1/1 [==============================] - 0s 13ms/step - loss: 4.3317e-05 - mae: 0.0058\n",
      "Epoch 92/100\n",
      "1/1 [==============================] - 0s 0s/step - loss: 4.3109e-05 - mae: 0.0058\n",
      "Epoch 93/100\n",
      "1/1 [==============================] - 0s 0s/step - loss: 4.2902e-05 - mae: 0.0058\n",
      "Epoch 94/100\n",
      "1/1 [==============================] - 0s 32ms/step - loss: 4.2696e-05 - mae: 0.0058\n",
      "Epoch 95/100\n",
      "1/1 [==============================] - 0s 8ms/step - loss: 4.2491e-05 - mae: 0.0057\n",
      "Epoch 96/100\n",
      "1/1 [==============================] - 0s 0s/step - loss: 4.2287e-05 - mae: 0.0057\n",
      "Epoch 97/100\n",
      "1/1 [==============================] - 0s 16ms/step - loss: 4.2085e-05 - mae: 0.0057\n",
      "Epoch 98/100\n",
      "1/1 [==============================] - 0s 0s/step - loss: 4.1882e-05 - mae: 0.0057\n",
      "Epoch 99/100\n",
      "1/1 [==============================] - 0s 0s/step - loss: 4.1681e-05 - mae: 0.0057\n",
      "Epoch 100/100\n",
      "1/1 [==============================] - 0s 4ms/step - loss: 4.1481e-05 - mae: 0.0057\n"
     ]
    },
    {
     "data": {
      "text/plain": [
       "<keras.src.callbacks.History at 0x229d03b4bd0>"
      ]
     },
     "execution_count": 82,
     "metadata": {},
     "output_type": "execute_result"
    }
   ],
   "source": [
    "model.compile(optimizer='sgd',loss='mse',metrics='mae')\n",
    "model.fit(X,y,epochs=100)"
   ]
  },
  {
   "cell_type": "code",
   "execution_count": 83,
   "metadata": {},
   "outputs": [
    {
     "data": {
      "text/plain": [
       "[array([[1.0074627]], dtype=float32), array([-0.01696341], dtype=float32)]"
      ]
     },
     "execution_count": 83,
     "metadata": {},
     "output_type": "execute_result"
    }
   ],
   "source": [
    "model.get_weights()"
   ]
  },
  {
   "cell_type": "code",
   "execution_count": 84,
   "metadata": {},
   "outputs": [
    {
     "name": "stdout",
     "output_type": "stream",
     "text": [
      "1/1 [==============================] - 0s 142ms/step\n"
     ]
    },
    {
     "data": {
      "text/html": [
       "<div>\n",
       "<style scoped>\n",
       "    .dataframe tbody tr th:only-of-type {\n",
       "        vertical-align: middle;\n",
       "    }\n",
       "\n",
       "    .dataframe tbody tr th {\n",
       "        vertical-align: top;\n",
       "    }\n",
       "\n",
       "    .dataframe thead th {\n",
       "        text-align: right;\n",
       "    }\n",
       "</style>\n",
       "<table border=\"1\" class=\"dataframe\">\n",
       "  <thead>\n",
       "    <tr style=\"text-align: right;\">\n",
       "      <th></th>\n",
       "      <th>true</th>\n",
       "      <th>pred</th>\n",
       "    </tr>\n",
       "  </thead>\n",
       "  <tbody>\n",
       "    <tr>\n",
       "      <th>0</th>\n",
       "      <td>1</td>\n",
       "      <td>0.990499</td>\n",
       "    </tr>\n",
       "    <tr>\n",
       "      <th>1</th>\n",
       "      <td>2</td>\n",
       "      <td>1.997962</td>\n",
       "    </tr>\n",
       "    <tr>\n",
       "      <th>2</th>\n",
       "      <td>3</td>\n",
       "      <td>3.005425</td>\n",
       "    </tr>\n",
       "  </tbody>\n",
       "</table>\n",
       "</div>"
      ],
      "text/plain": [
       "   true      pred\n",
       "0     1  0.990499\n",
       "1     2  1.997962\n",
       "2     3  3.005425"
      ]
     },
     "execution_count": 84,
     "metadata": {},
     "output_type": "execute_result"
    }
   ],
   "source": [
    "pd.DataFrame({\n",
    "    'true': np.squeeze(y),\n",
    "    'pred': np.squeeze(model.predict(y))\n",
    "\n",
    "})"
   ]
  },
  {
   "cell_type": "code",
   "execution_count": 85,
   "metadata": {},
   "outputs": [],
   "source": [
    "from keras.datasets import mnist\n",
    "\n",
    "(X_train,y_train),(X_test,y_test)=mnist.load_data() \n"
   ]
  },
  {
   "cell_type": "code",
   "execution_count": 86,
   "metadata": {},
   "outputs": [
    {
     "data": {
      "image/png": "[encoded data removed]",
      "text/plain": [
       "<Figure size 1000x500 with 5 Axes>"
      ]
     },
     "metadata": {},
     "output_type": "display_data"
    }
   ],
   "source": [
    "fig,ax=plt.subplots(1,5,figsize=(10,5)) #1 строка и 5 колонок в ней типо\n",
    "#fig - общий рисунок в котором изображены все подрисунки\n",
    "#ax -  это массив объектов подграфиков (axes), каждый из которых представляет отдельный график. В данном случае, так как у нас 5 колонок, ax будет массивом из 5 элементов.\n",
    "\n",
    "for i in range(5):\n",
    "    ax[i].imshow(X_train[i]) #помогает отображать изображения\n",
    "    ax[i].axis('off') #Отрубаем разметку по осям x и y"
   ]
  },
  {
   "cell_type": "code",
   "execution_count": 87,
   "metadata": {},
   "outputs": [
    {
     "data": {
      "text/plain": [
       "((60000, 28, 28), (10000, 28, 28))"
      ]
     },
     "execution_count": 87,
     "metadata": {},
     "output_type": "execute_result"
    }
   ],
   "source": [
    "X_train.shape,X_test.shape"
   ]
  },
  {
   "cell_type": "code",
   "execution_count": 88,
   "metadata": {},
   "outputs": [],
   "source": [
    "indx=np.where((y_train==0) | (y_train==1))\n",
    "y_train=y_train[indx]"
   ]
  },
  {
   "cell_type": "code",
   "execution_count": 89,
   "metadata": {},
   "outputs": [],
   "source": [
    "X_train=X_train[indx]"
   ]
  },
  {
   "cell_type": "code",
   "execution_count": 90,
   "metadata": {},
   "outputs": [],
   "source": [
    "indx2=np.where((y_test==0) | (y_test==1))\n",
    "y_test=y_test[indx2]\n",
    "X_test=X_test[indx2]"
   ]
  },
  {
   "cell_type": "code",
   "execution_count": 91,
   "metadata": {},
   "outputs": [
    {
     "data": {
      "text/plain": [
       "(1.0, 0.0)"
      ]
     },
     "execution_count": 91,
     "metadata": {},
     "output_type": "execute_result"
    }
   ],
   "source": [
    "X_train=X_train/255.0\n",
    "X_test=X_test/255.0\n",
    "\n",
    "X_train.max(),X_test.min()"
   ]
  },
  {
   "cell_type": "code",
   "execution_count": 92,
   "metadata": {},
   "outputs": [],
   "source": [
    "from keras.utils import to_categorical \n",
    "import tensorflow as tf\n",
    "\n",
    "y_test_cat=to_categorical(y_test)\n",
    "y_train_cat=to_categorical(y_train)"
   ]
  },
  {
   "cell_type": "code",
   "execution_count": 94,
   "metadata": {},
   "outputs": [
    {
     "data": {
      "text/plain": [
       "(array([[1., 0.],\n",
       "        [0., 1.],\n",
       "        [0., 1.],\n",
       "        ...,\n",
       "        [0., 1.],\n",
       "        [1., 0.],\n",
       "        [0., 1.]], dtype=float32),\n",
       " array([0, 1, 1, ..., 1, 0, 1], dtype=uint8))"
      ]
     },
     "execution_count": 94,
     "metadata": {},
     "output_type": "execute_result"
    }
   ],
   "source": [
    "y_train_cat, y_train"
   ]
  },
  {
   "cell_type": "code",
   "execution_count": 97,
   "metadata": {},
   "outputs": [
    {
     "data": {
      "image/png": "[encoded data removed]",
      "text/plain": [
       "<Figure size 1000x500 with 5 Axes>"
      ]
     },
     "metadata": {},
     "output_type": "display_data"
    }
   ],
   "source": [
    "X_train_resized=tf.image.resize(X_train[...,np.newaxis],(6,6))[...,0] #пиздец\n",
    "X_test_resized=tf.image.resize(X_test[...,np.newaxis],(6,6))[...,0]\n",
    "\n",
    "fig,ax=plt.subplots(1,5,figsize=(10,5))\n",
    "\n",
    "for i in range(5):\n",
    "    ax[i].imshow(X_train_resized[i],cmap='gray')\n",
    "    ax[i].axis('off')\n",
    "  "
   ]
  },
  {
   "cell_type": "code",
   "execution_count": 98,
   "metadata": {},
   "outputs": [
    {
     "data": {
      "text/plain": [
       "TensorShape([12665, 6, 6])"
      ]
     },
     "execution_count": 98,
     "metadata": {},
     "output_type": "execute_result"
    }
   ],
   "source": [
    "X_train_resized.shape"
   ]
  },
  {
   "cell_type": "code",
   "execution_count": null,
   "metadata": {},
   "outputs": [],
   "source": [
    "model.compile(optimizer='sgd',loss='binary_crossentropy',metrics='accuracy')\n"
   ]
  }
 ],
 "metadata": {
  "kernelspec": {
   "display_name": "Python 3",
   "language": "python",
   "name": "python3"
  },
  "language_info": {
   "codemirror_mode": {
    "name": "ipython",
    "version": 3
   },
   "file_extension": ".py",
   "mimetype": "text/x-python",
   "name": "python",
   "nbconvert_exporter": "python",
   "pygments_lexer": "ipython3",
   "version": "3.11.4"
  }
 },
 "nbformat": 4,
 "nbformat_minor": 2
}
