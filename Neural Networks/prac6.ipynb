{
 "cells": [
  {
   "cell_type": "code",
   "execution_count": 12,
   "metadata": {},
   "outputs": [],
   "source": [
    "import numpy as np\n",
    "import matplotlib.pyplot as plt\n",
    "import seaborn as sns\n",
    "import pandas as pd\n",
    "from keras.layers import Dense\n",
    "from keras.models import Sequential\n",
    "import tensorflow as tf\n",
    "import warnings\n",
    "\n",
    "warnings.filterwarnings(\"ignore\")"
   ]
  },
  {
   "cell_type": "code",
   "execution_count": 13,
   "metadata": {},
   "outputs": [
    {
     "data": {
      "text/plain": [
       "((404, 13), (102, 13))"
      ]
     },
     "execution_count": 13,
     "metadata": {},
     "output_type": "execute_result"
    }
   ],
   "source": [
    "from keras.datasets import boston_housing\n",
    "\n",
    "(X_train,y_train),(X_test,y_test)=boston_housing.load_data()\n",
    "\n",
    "\n",
    "X_train.shape, X_test.shape"
   ]
  },
  {
   "cell_type": "code",
   "execution_count": 14,
   "metadata": {},
   "outputs": [
    {
     "data": {
      "text/plain": [
       "array([[  1.23247,   0.     ,   8.14   ,   0.     ,   0.538  ,   6.142  ,\n",
       "         91.7    ,   3.9769 ,   4.     , 307.     ,  21.     , 396.9    ,\n",
       "         18.72   ]])"
      ]
     },
     "execution_count": 14,
     "metadata": {},
     "output_type": "execute_result"
    }
   ],
   "source": [
    "X_train[:1]"
   ]
  },
  {
   "cell_type": "code",
   "execution_count": 15,
   "metadata": {},
   "outputs": [
    {
     "data": {
      "text/plain": [
       "array([1., 1., 1., 1., 1., 1., 1., 1., 1., 1., 1., 1., 1.])"
      ]
     },
     "execution_count": 15,
     "metadata": {},
     "output_type": "execute_result"
    }
   ],
   "source": [
    "mean=X_train.mean(axis=0)\n",
    "std=X_train.std(axis=0)\n",
    "\n",
    "X_train-=mean\n",
    "X_train/=std\n",
    "\n",
    "X_test-=mean\n",
    "X_test/=std\n",
    "\n",
    "X_train.std(axis=0)"
   ]
  },
  {
   "cell_type": "code",
   "execution_count": 16,
   "metadata": {},
   "outputs": [
    {
     "name": "stdout",
     "output_type": "stream",
     "text": [
      "Model: \"sequential_1\"\n",
      "_________________________________________________________________\n",
      " Layer (type)                Output Shape              Param #   \n",
      "=================================================================\n",
      " dense_3 (Dense)             (None, 32)                448       \n",
      "                                                                 \n",
      " dense_4 (Dense)             (None, 16)                528       \n",
      "                                                                 \n",
      " dense_5 (Dense)             (None, 1)                 17        \n",
      "                                                                 \n",
      "=================================================================\n",
      "Total params: 993 (3.88 KB)\n",
      "Trainable params: 993 (3.88 KB)\n",
      "Non-trainable params: 0 (0.00 Byte)\n",
      "_________________________________________________________________\n"
     ]
    }
   ],
   "source": [
    "model=Sequential()\n",
    "\n",
    "model.add(Dense(32,activation='relu',input_shape=(X_train.shape[1],)))\n",
    "model.add(Dense(16,activation='relu'))\n",
    "model.add(Dense(1))\n",
    "\n",
    "model.summary()"
   ]
  },
  {
   "cell_type": "code",
   "execution_count": 17,
   "metadata": {},
   "outputs": [],
   "source": [
    "model.compile(optimizer='adam',loss='mse',metrics=['mae'])\n"
   ]
  },
  {
   "cell_type": "code",
   "execution_count": 18,
   "metadata": {},
   "outputs": [
    {
     "name": "stdout",
     "output_type": "stream",
     "text": [
      "Epoch 1/50\n"
     ]
    },
    {
     "name": "stdout",
     "output_type": "stream",
     "text": [
      "13/13 [==============================] - 1s 18ms/step - loss: 585.4342 - mae: 22.3002 - val_loss: 605.9517 - val_mae: 22.7608\n",
      "Epoch 2/50\n",
      "13/13 [==============================] - 0s 4ms/step - loss: 566.7142 - mae: 21.8704 - val_loss: 585.2189 - val_mae: 22.2974\n",
      "Epoch 3/50\n",
      "13/13 [==============================] - 0s 4ms/step - loss: 545.3383 - mae: 21.3805 - val_loss: 560.8560 - val_mae: 21.7487\n",
      "Epoch 4/50\n",
      "13/13 [==============================] - 0s 4ms/step - loss: 519.8189 - mae: 20.7853 - val_loss: 530.6164 - val_mae: 21.0540\n",
      "Epoch 5/50\n",
      "13/13 [==============================] - 0s 4ms/step - loss: 488.0527 - mae: 20.0102 - val_loss: 492.1465 - val_mae: 20.1550\n",
      "Epoch 6/50\n",
      "13/13 [==============================] - 0s 4ms/step - loss: 447.7075 - mae: 19.0230 - val_loss: 445.7212 - val_mae: 19.0096\n",
      "Epoch 7/50\n",
      "13/13 [==============================] - 0s 4ms/step - loss: 399.5614 - mae: 17.7784 - val_loss: 389.6229 - val_mae: 17.5846\n",
      "Epoch 8/50\n",
      "13/13 [==============================] - 0s 5ms/step - loss: 343.1994 - mae: 16.2686 - val_loss: 326.3569 - val_mae: 15.9409\n",
      "Epoch 9/50\n",
      "13/13 [==============================] - 0s 5ms/step - loss: 280.9163 - mae: 14.4835 - val_loss: 259.9842 - val_mae: 14.1031\n",
      "Epoch 10/50\n",
      "13/13 [==============================] - 0s 5ms/step - loss: 218.9743 - mae: 12.4851 - val_loss: 195.2341 - val_mae: 12.0211\n",
      "Epoch 11/50\n",
      "13/13 [==============================] - 0s 5ms/step - loss: 161.8931 - mae: 10.3238 - val_loss: 141.5428 - val_mae: 10.0398\n",
      "Epoch 12/50\n",
      "13/13 [==============================] - 0s 5ms/step - loss: 116.3608 - mae: 8.4230 - val_loss: 103.5296 - val_mae: 8.4608\n",
      "Epoch 13/50\n",
      "13/13 [==============================] - 0s 7ms/step - loss: 86.0641 - mae: 7.1168 - val_loss: 80.1316 - val_mae: 7.2319\n",
      "Epoch 14/50\n",
      "13/13 [==============================] - 0s 6ms/step - loss: 68.5460 - mae: 6.3239 - val_loss: 65.3987 - val_mae: 6.4480\n",
      "Epoch 15/50\n",
      "13/13 [==============================] - 0s 6ms/step - loss: 56.7300 - mae: 5.7150 - val_loss: 55.7769 - val_mae: 5.9498\n",
      "Epoch 16/50\n",
      "13/13 [==============================] - 0s 5ms/step - loss: 48.3977 - mae: 5.2267 - val_loss: 48.7665 - val_mae: 5.6234\n",
      "Epoch 17/50\n",
      "13/13 [==============================] - 0s 5ms/step - loss: 42.0475 - mae: 4.8626 - val_loss: 43.0660 - val_mae: 5.3347\n",
      "Epoch 18/50\n",
      "13/13 [==============================] - 0s 4ms/step - loss: 36.8885 - mae: 4.5399 - val_loss: 39.0150 - val_mae: 5.0853\n",
      "Epoch 19/50\n",
      "13/13 [==============================] - 0s 4ms/step - loss: 32.9783 - mae: 4.2709 - val_loss: 35.8016 - val_mae: 4.8677\n",
      "Epoch 20/50\n",
      "13/13 [==============================] - 0s 4ms/step - loss: 30.0637 - mae: 4.0683 - val_loss: 33.2939 - val_mae: 4.6756\n",
      "Epoch 21/50\n",
      "13/13 [==============================] - 0s 5ms/step - loss: 27.9743 - mae: 3.9178 - val_loss: 31.5841 - val_mae: 4.5316\n",
      "Epoch 22/50\n",
      "13/13 [==============================] - 0s 4ms/step - loss: 26.3282 - mae: 3.8148 - val_loss: 30.2327 - val_mae: 4.4126\n",
      "Epoch 23/50\n",
      "13/13 [==============================] - 0s 4ms/step - loss: 25.0810 - mae: 3.7137 - val_loss: 29.1743 - val_mae: 4.3093\n",
      "Epoch 24/50\n",
      "13/13 [==============================] - 0s 4ms/step - loss: 24.0900 - mae: 3.6384 - val_loss: 28.4169 - val_mae: 4.2432\n",
      "Epoch 25/50\n",
      "13/13 [==============================] - 0s 4ms/step - loss: 23.3088 - mae: 3.5638 - val_loss: 27.6391 - val_mae: 4.1734\n",
      "Epoch 26/50\n",
      "13/13 [==============================] - 0s 4ms/step - loss: 22.5554 - mae: 3.4982 - val_loss: 27.1575 - val_mae: 4.1212\n",
      "Epoch 27/50\n",
      "13/13 [==============================] - 0s 5ms/step - loss: 21.9556 - mae: 3.4497 - val_loss: 26.7074 - val_mae: 4.0707\n",
      "Epoch 28/50\n",
      "13/13 [==============================] - 0s 5ms/step - loss: 21.4129 - mae: 3.3970 - val_loss: 26.1822 - val_mae: 4.0201\n",
      "Epoch 29/50\n",
      "13/13 [==============================] - 0s 4ms/step - loss: 20.8950 - mae: 3.3534 - val_loss: 25.9319 - val_mae: 3.9850\n",
      "Epoch 30/50\n",
      "13/13 [==============================] - 0s 4ms/step - loss: 20.3960 - mae: 3.3132 - val_loss: 25.6720 - val_mae: 3.9587\n",
      "Epoch 31/50\n",
      "13/13 [==============================] - 0s 8ms/step - loss: 19.9621 - mae: 3.2866 - val_loss: 25.2766 - val_mae: 3.9332\n",
      "Epoch 32/50\n",
      "13/13 [==============================] - 0s 4ms/step - loss: 19.4749 - mae: 3.2365 - val_loss: 24.9785 - val_mae: 3.8879\n",
      "Epoch 33/50\n",
      "13/13 [==============================] - 0s 4ms/step - loss: 19.1268 - mae: 3.2020 - val_loss: 25.0692 - val_mae: 3.8783\n",
      "Epoch 34/50\n",
      "13/13 [==============================] - 0s 4ms/step - loss: 18.6623 - mae: 3.1600 - val_loss: 24.5844 - val_mae: 3.8323\n",
      "Epoch 35/50\n",
      "13/13 [==============================] - 0s 4ms/step - loss: 18.2246 - mae: 3.1252 - val_loss: 24.5108 - val_mae: 3.8189\n",
      "Epoch 36/50\n",
      "13/13 [==============================] - 0s 5ms/step - loss: 17.8677 - mae: 3.0926 - val_loss: 24.3632 - val_mae: 3.7918\n",
      "Epoch 37/50\n",
      "13/13 [==============================] - 0s 5ms/step - loss: 17.4974 - mae: 3.0576 - val_loss: 24.2798 - val_mae: 3.7685\n",
      "Epoch 38/50\n",
      "13/13 [==============================] - 0s 5ms/step - loss: 17.1511 - mae: 3.0288 - val_loss: 23.9124 - val_mae: 3.7399\n",
      "Epoch 39/50\n",
      "13/13 [==============================] - 0s 5ms/step - loss: 16.7804 - mae: 2.9854 - val_loss: 23.7359 - val_mae: 3.6999\n",
      "Epoch 40/50\n",
      "13/13 [==============================] - 0s 5ms/step - loss: 16.4563 - mae: 2.9501 - val_loss: 23.6814 - val_mae: 3.6845\n",
      "Epoch 41/50\n",
      "13/13 [==============================] - 0s 5ms/step - loss: 16.1359 - mae: 2.9131 - val_loss: 23.3814 - val_mae: 3.6429\n",
      "Epoch 42/50\n",
      "13/13 [==============================] - 0s 5ms/step - loss: 15.8283 - mae: 2.8824 - val_loss: 23.4895 - val_mae: 3.6452\n",
      "Epoch 43/50\n",
      "13/13 [==============================] - 0s 5ms/step - loss: 15.4730 - mae: 2.8581 - val_loss: 23.2671 - val_mae: 3.6155\n",
      "Epoch 44/50\n",
      "13/13 [==============================] - 0s 5ms/step - loss: 15.2009 - mae: 2.8273 - val_loss: 23.1435 - val_mae: 3.5923\n",
      "Epoch 45/50\n",
      "13/13 [==============================] - 0s 5ms/step - loss: 14.9422 - mae: 2.7972 - val_loss: 23.1611 - val_mae: 3.5715\n",
      "Epoch 46/50\n",
      "13/13 [==============================] - 0s 5ms/step - loss: 14.6785 - mae: 2.7643 - val_loss: 22.8381 - val_mae: 3.5387\n",
      "Epoch 47/50\n",
      "13/13 [==============================] - 0s 5ms/step - loss: 14.4780 - mae: 2.7430 - val_loss: 23.0230 - val_mae: 3.5464\n",
      "Epoch 48/50\n",
      "13/13 [==============================] - 0s 5ms/step - loss: 14.1698 - mae: 2.7189 - val_loss: 22.9898 - val_mae: 3.5250\n",
      "Epoch 49/50\n",
      "13/13 [==============================] - 0s 4ms/step - loss: 13.8890 - mae: 2.6862 - val_loss: 22.7033 - val_mae: 3.4908\n",
      "Epoch 50/50\n",
      "13/13 [==============================] - 0s 6ms/step - loss: 13.6825 - mae: 2.6594 - val_loss: 22.5548 - val_mae: 3.4714\n"
     ]
    }
   ],
   "source": [
    "history=model.fit(X_train,y_train,\n",
    "                  epochs=50,\n",
    "                  validation_data=(X_test,y_test))"
   ]
  },
  {
   "cell_type": "code",
   "execution_count": 19,
   "metadata": {},
   "outputs": [
    {
     "data": {
      "text/plain": [
       "{'loss': [585.4342041015625,\n",
       "  566.7142333984375,\n",
       "  545.3383178710938,\n",
       "  519.8189086914062,\n",
       "  488.0527038574219,\n",
       "  447.70751953125,\n",
       "  399.5614318847656,\n",
       "  343.19940185546875,\n",
       "  280.9162902832031,\n",
       "  218.97425842285156,\n",
       "  161.8931427001953,\n",
       "  116.36079406738281,\n",
       "  86.0640640258789,\n",
       "  68.54597473144531,\n",
       "  56.730037689208984,\n",
       "  48.3976936340332,\n",
       "  42.047542572021484,\n",
       "  36.888450622558594,\n",
       "  32.97829818725586,\n",
       "  30.063701629638672,\n",
       "  27.97428321838379,\n",
       "  26.328195571899414,\n",
       "  25.081037521362305,\n",
       "  24.09001350402832,\n",
       "  23.30878257751465,\n",
       "  22.555435180664062,\n",
       "  21.95564842224121,\n",
       "  21.41292381286621,\n",
       "  20.895002365112305,\n",
       "  20.395967483520508,\n",
       "  19.962125778198242,\n",
       "  19.474943161010742,\n",
       "  19.12677574157715,\n",
       "  18.662275314331055,\n",
       "  18.22461700439453,\n",
       "  17.86768341064453,\n",
       "  17.497371673583984,\n",
       "  17.151081085205078,\n",
       "  16.780410766601562,\n",
       "  16.45630645751953,\n",
       "  16.13593101501465,\n",
       "  15.828310012817383,\n",
       "  15.472959518432617,\n",
       "  15.200895309448242,\n",
       "  14.94215202331543,\n",
       "  14.678511619567871,\n",
       "  14.47800350189209,\n",
       "  14.169764518737793,\n",
       "  13.889002799987793,\n",
       "  13.682490348815918],\n",
       " 'mae': [22.300193786621094,\n",
       "  21.870397567749023,\n",
       "  21.38047981262207,\n",
       "  20.78533363342285,\n",
       "  20.010190963745117,\n",
       "  19.023033142089844,\n",
       "  17.778371810913086,\n",
       "  16.268625259399414,\n",
       "  14.483528137207031,\n",
       "  12.485135078430176,\n",
       "  10.323792457580566,\n",
       "  8.423029899597168,\n",
       "  7.116811752319336,\n",
       "  6.3238525390625,\n",
       "  5.714959144592285,\n",
       "  5.226708889007568,\n",
       "  4.862607955932617,\n",
       "  4.539859771728516,\n",
       "  4.270877838134766,\n",
       "  4.068278789520264,\n",
       "  3.9178454875946045,\n",
       "  3.814788579940796,\n",
       "  3.7137293815612793,\n",
       "  3.6384165287017822,\n",
       "  3.5637753009796143,\n",
       "  3.498197078704834,\n",
       "  3.44974422454834,\n",
       "  3.3970248699188232,\n",
       "  3.3534443378448486,\n",
       "  3.3132026195526123,\n",
       "  3.2866339683532715,\n",
       "  3.2365074157714844,\n",
       "  3.202011823654175,\n",
       "  3.1599981784820557,\n",
       "  3.1251728534698486,\n",
       "  3.0925779342651367,\n",
       "  3.0575976371765137,\n",
       "  3.028820753097534,\n",
       "  2.985440492630005,\n",
       "  2.950051784515381,\n",
       "  2.9131031036376953,\n",
       "  2.882444381713867,\n",
       "  2.8581385612487793,\n",
       "  2.8273134231567383,\n",
       "  2.797175407409668,\n",
       "  2.764328956604004,\n",
       "  2.742952346801758,\n",
       "  2.7188844680786133,\n",
       "  2.686225414276123,\n",
       "  2.6594371795654297],\n",
       " 'val_loss': [605.95166015625,\n",
       "  585.2189331054688,\n",
       "  560.8560180664062,\n",
       "  530.6163940429688,\n",
       "  492.146484375,\n",
       "  445.72119140625,\n",
       "  389.62286376953125,\n",
       "  326.35693359375,\n",
       "  259.9841613769531,\n",
       "  195.23406982421875,\n",
       "  141.5428466796875,\n",
       "  103.52958679199219,\n",
       "  80.13158416748047,\n",
       "  65.39868927001953,\n",
       "  55.77694320678711,\n",
       "  48.76652526855469,\n",
       "  43.06599044799805,\n",
       "  39.0150260925293,\n",
       "  35.80157470703125,\n",
       "  33.29387664794922,\n",
       "  31.58406639099121,\n",
       "  30.232654571533203,\n",
       "  29.17428207397461,\n",
       "  28.41691017150879,\n",
       "  27.63906478881836,\n",
       "  27.157514572143555,\n",
       "  26.707399368286133,\n",
       "  26.182233810424805,\n",
       "  25.931856155395508,\n",
       "  25.67203140258789,\n",
       "  25.27656364440918,\n",
       "  24.97853660583496,\n",
       "  25.069242477416992,\n",
       "  24.584426879882812,\n",
       "  24.510835647583008,\n",
       "  24.363189697265625,\n",
       "  24.279754638671875,\n",
       "  23.912397384643555,\n",
       "  23.735931396484375,\n",
       "  23.68136215209961,\n",
       "  23.381433486938477,\n",
       "  23.4894962310791,\n",
       "  23.26712989807129,\n",
       "  23.143478393554688,\n",
       "  23.161088943481445,\n",
       "  22.838117599487305,\n",
       "  23.02304458618164,\n",
       "  22.989774703979492,\n",
       "  22.70330238342285,\n",
       "  22.5548095703125],\n",
       " 'val_mae': [22.760805130004883,\n",
       "  22.297380447387695,\n",
       "  21.74869728088379,\n",
       "  21.053983688354492,\n",
       "  20.154985427856445,\n",
       "  19.00955581665039,\n",
       "  17.58460807800293,\n",
       "  15.94088077545166,\n",
       "  14.10314655303955,\n",
       "  12.021093368530273,\n",
       "  10.039817810058594,\n",
       "  8.460787773132324,\n",
       "  7.231887340545654,\n",
       "  6.44795560836792,\n",
       "  5.949815273284912,\n",
       "  5.623382568359375,\n",
       "  5.33469820022583,\n",
       "  5.08534049987793,\n",
       "  4.86768102645874,\n",
       "  4.675576686859131,\n",
       "  4.531595230102539,\n",
       "  4.412578582763672,\n",
       "  4.309329986572266,\n",
       "  4.243217945098877,\n",
       "  4.173374652862549,\n",
       "  4.12123966217041,\n",
       "  4.070655822753906,\n",
       "  4.020060062408447,\n",
       "  3.9849815368652344,\n",
       "  3.958672285079956,\n",
       "  3.933215379714966,\n",
       "  3.887927293777466,\n",
       "  3.8783209323883057,\n",
       "  3.832341194152832,\n",
       "  3.8188960552215576,\n",
       "  3.7917563915252686,\n",
       "  3.768497943878174,\n",
       "  3.7398531436920166,\n",
       "  3.6999404430389404,\n",
       "  3.684476613998413,\n",
       "  3.6428520679473877,\n",
       "  3.6452410221099854,\n",
       "  3.615530490875244,\n",
       "  3.592252016067505,\n",
       "  3.5715250968933105,\n",
       "  3.5386831760406494,\n",
       "  3.546405792236328,\n",
       "  3.524958372116089,\n",
       "  3.4907751083374023,\n",
       "  3.47139048576355]}"
      ]
     },
     "execution_count": 19,
     "metadata": {},
     "output_type": "execute_result"
    }
   ],
   "source": [
    "history.history #тут будет изменение каждой метрики в зависимости от эпохи"
   ]
  },
  {
   "cell_type": "code",
   "execution_count": 20,
   "metadata": {},
   "outputs": [
    {
     "data": {
      "image/png": "[encoded data removed]",
      "text/plain": [
       "<Figure size 640x480 with 1 Axes>"
      ]
     },
     "metadata": {},
     "output_type": "display_data"
    }
   ],
   "source": [
    "plt.plot(history.history['loss'],label='train loss')\n",
    "plt.plot(history.history['val_loss'],label='test loss')\n",
    "plt.legend();\n"
   ]
  },
  {
   "cell_type": "markdown",
   "metadata": {},
   "source": [
    "callback - определенная функция, применяемая в определенные моменты во время процедуры обучения. Вы можете использовать функции callback чтобы \n",
    "получить информация о внутреннем состоянии модели во время обучения.\n",
    "Нужно передовать callback'и методу fit. И подходящие методы callback\n",
    "будут вызваны на каждой стадии обучения. Примеры основных колбэков ниже"
   ]
  },
  {
   "cell_type": "markdown",
   "metadata": {},
   "source": [
    "1. ModelCheckPoint\n",
    "\n",
    "Сохранение модели после каждой эпохи, так как нейросети обучаются очень долго и промежуточные результаты нужно сохранять"
   ]
  },
  {
   "cell_type": "code",
   "execution_count": 21,
   "metadata": {},
   "outputs": [],
   "source": [
    "from keras import callbacks\n",
    "\n",
    "model_checkpoint = callbacks.ModelCheckpoint(filepath='model_best_{epoch}.h5', #путь куда сохраняется наша модель, Где мы допом указываем номер эпохи\n",
    "                                             monitor='val_loss', #что нужно мониторить\n",
    "                                             varbose=1,#тут короче 1 - с информационными плашечками, 0 - без них\n",
    "                                             save_best_only=True, #сохраняет только если улучшилась отслеживаемая метрика\n",
    "                                             save_weights_only=False, #сохранять только веса или всю модель\n",
    "                                             mode='auto',\n",
    "                                             save_freq='epoch' )#как часто мы сохраняем модель(здесь каждую эпоху)"
   ]
  },
  {
   "cell_type": "code",
   "execution_count": 23,
   "metadata": {},
   "outputs": [
    {
     "name": "stdout",
     "output_type": "stream",
     "text": [
      "Epoch 1/5\n",
      "13/13 [==============================] - 1s 20ms/step - loss: 2.4289 - mae: 2.4289 - val_loss: 3.2723 - val_mae: 3.2723\n",
      "Epoch 2/5\n",
      "13/13 [==============================] - 0s 7ms/step - loss: 2.3923 - mae: 2.3923 - val_loss: 3.2686 - val_mae: 3.2686\n",
      "Epoch 3/5\n",
      "13/13 [==============================] - 0s 6ms/step - loss: 2.3761 - mae: 2.3761 - val_loss: 3.1983 - val_mae: 3.1983\n",
      "Epoch 4/5\n",
      "13/13 [==============================] - 0s 5ms/step - loss: 2.3528 - mae: 2.3528 - val_loss: 3.1714 - val_mae: 3.1714\n",
      "Epoch 5/5\n",
      "13/13 [==============================] - 0s 4ms/step - loss: 2.3323 - mae: 2.3323 - val_loss: 3.2120 - val_mae: 3.2120\n"
     ]
    },
    {
     "data": {
      "text/plain": [
       "<keras.src.callbacks.History at 0x219153ba450>"
      ]
     },
     "execution_count": 23,
     "metadata": {},
     "output_type": "execute_result"
    }
   ],
   "source": [
    "model.compile(optimizer='adam',loss='mae',metrics=['mae'])\n",
    "\n",
    "model.fit(X_train,y_train,\n",
    "          epochs=5,\n",
    "          validation_data=(X_test,y_test),\n",
    "          callbacks=[model_checkpoint])"
   ]
  },
  {
   "cell_type": "markdown",
   "metadata": {},
   "source": [
    "2. EarlyStopping\n",
    "\n",
    "Прекращение обучения когда параметр monitor перестает улучшаться"
   ]
  },
  {
   "cell_type": "code",
   "execution_count": 26,
   "metadata": {},
   "outputs": [],
   "source": [
    "early_stop=callbacks.EarlyStopping(monitor='val_loss', #то что мы мониторим\n",
    "                                   min_delta=0, # если разница в улучшении меньше указаного то улучшение не засчитано\n",
    "                                   patience=3, #число эпох в которых улучшение не происходило  и наша модель остановится после этого количества эпох\n",
    "                                   verbose=1, #отображение 1 или 0\n",
    "                                   mode='auto',                              \n",
    "                                   #baseline=0.06, # значение которое должна достичь monitor, Обучение прекратиться если модель не достигла ее\n",
    "                                   restore_best_weights=False) #если true То можем восстановить самые лучше веса за все эпохи"
   ]
  },
  {
   "cell_type": "code",
   "execution_count": 27,
   "metadata": {},
   "outputs": [
    {
     "name": "stdout",
     "output_type": "stream",
     "text": [
      "Epoch 1/10\n",
      "13/13 [==============================] - 0s 8ms/step - loss: 2.1794 - mae: 2.1794 - val_loss: 2.9778 - val_mae: 2.9778\n",
      "Epoch 2/10\n",
      "13/13 [==============================] - 0s 4ms/step - loss: 2.1632 - mae: 2.1632 - val_loss: 3.0805 - val_mae: 3.0805\n",
      "Epoch 3/10\n",
      "13/13 [==============================] - 0s 4ms/step - loss: 2.1531 - mae: 2.1531 - val_loss: 3.0243 - val_mae: 3.0243\n",
      "Epoch 4/10\n",
      "13/13 [==============================] - 0s 5ms/step - loss: 2.1442 - mae: 2.1442 - val_loss: 3.0533 - val_mae: 3.0533\n",
      "Epoch 4: early stopping\n"
     ]
    },
    {
     "data": {
      "text/plain": [
       "<keras.src.callbacks.History at 0x21912945bd0>"
      ]
     },
     "execution_count": 27,
     "metadata": {},
     "output_type": "execute_result"
    }
   ],
   "source": [
    "model.fit(X_train,y_train,\n",
    "          epochs=10,validation_data=(X_test,y_test),\n",
    "          callbacks=[early_stop])\n",
    "#Запусти несколько раз"
   ]
  },
  {
   "cell_type": "markdown",
   "metadata": {},
   "source": [
    "3.ReduceLROnPlateau\n",
    "\n",
    "Уменьшение скорости обучения когда метрика перестала улучшаться\n",
    "\n",
    "Модели зачастую работают лучше если уменьшать скорость обучения,этот колбэк следит за параметром monitor и если не происходит улучшения за patience эпох то уменьшает скорость обучения"
   ]
  },
  {
   "cell_type": "code",
   "execution_count": 32,
   "metadata": {},
   "outputs": [
    {
     "name": "stdout",
     "output_type": "stream",
     "text": [
      "Epoch 1/10\n",
      "13/13 [==============================] - 1s 14ms/step - loss: 9.7713 - mae: 2.1662 - val_loss: 21.0863 - val_mae: 3.0095 - lr: 0.0010\n",
      "Epoch 2/10\n",
      " 1/13 [=>............................] - ETA: 0s - loss: 4.5290 - mae: 1.6596\n",
      "Epoch 2: ReduceLROnPlateau reducing learning rate to 0.00010000000474974513.\n",
      "13/13 [==============================] - 0s 5ms/step - loss: 9.3833 - mae: 2.1423 - val_loss: 21.4953 - val_mae: 3.0507 - lr: 0.0010\n",
      "Epoch 3/10\n",
      " 1/13 [=>............................] - ETA: 0s - loss: 21.1426 - mae: 2.3900\n",
      "Epoch 3: ReduceLROnPlateau reducing learning rate to 1.0000000474974514e-05.\n",
      "13/13 [==============================] - 0s 5ms/step - loss: 9.2268 - mae: 2.1202 - val_loss: 21.4921 - val_mae: 3.0539 - lr: 1.0000e-04\n",
      "Epoch 4/10\n",
      " 1/13 [=>............................] - ETA: 0s - loss: 6.6826 - mae: 2.1245\n",
      "Epoch 4: ReduceLROnPlateau reducing learning rate to 1.0000000656873453e-06.\n",
      "13/13 [==============================] - 0s 5ms/step - loss: 9.2173 - mae: 2.1177 - val_loss: 21.4890 - val_mae: 3.0543 - lr: 1.0000e-05\n",
      "Epoch 5/10\n",
      " 1/13 [=>............................] - ETA: 0s - loss: 12.5227 - mae: 2.7506\n",
      "Epoch 5: ReduceLROnPlateau reducing learning rate to 1.0000001111620805e-07.\n",
      "13/13 [==============================] - 0s 6ms/step - loss: 9.2156 - mae: 2.1173 - val_loss: 21.4893 - val_mae: 3.0544 - lr: 1.0000e-06\n",
      "Epoch 6/10\n",
      " 1/13 [=>............................] - ETA: 0s - loss: 11.6016 - mae: 2.1809\n",
      "Epoch 6: ReduceLROnPlateau reducing learning rate to 1.000000082740371e-08.\n",
      "13/13 [==============================] - 0s 8ms/step - loss: 9.2155 - mae: 2.1173 - val_loss: 21.4894 - val_mae: 3.0544 - lr: 1.0000e-07\n",
      "Epoch 7/10\n",
      " 1/13 [=>............................] - ETA: 0s - loss: 7.7260 - mae: 2.1733\n",
      "Epoch 7: ReduceLROnPlateau reducing learning rate to 1.000000082740371e-09.\n",
      "13/13 [==============================] - 0s 7ms/step - loss: 9.2154 - mae: 2.1173 - val_loss: 21.4893 - val_mae: 3.0544 - lr: 1.0000e-08\n",
      "Epoch 8/10\n",
      " 1/13 [=>............................] - ETA: 0s - loss: 5.4305 - mae: 1.8626\n",
      "Epoch 8: ReduceLROnPlateau reducing learning rate to 1.000000082740371e-10.\n",
      "13/13 [==============================] - 0s 7ms/step - loss: 9.2154 - mae: 2.1173 - val_loss: 21.4893 - val_mae: 3.0544 - lr: 1.0000e-09\n",
      "Epoch 9/10\n",
      " 1/13 [=>............................] - ETA: 0s - loss: 19.1358 - mae: 2.0478\n",
      "Epoch 9: ReduceLROnPlateau reducing learning rate to 1e-10.\n",
      "13/13 [==============================] - 0s 6ms/step - loss: 9.2154 - mae: 2.1173 - val_loss: 21.4893 - val_mae: 3.0544 - lr: 1.0000e-10\n",
      "Epoch 10/10\n",
      "13/13 [==============================] - 0s 4ms/step - loss: 9.2154 - mae: 2.1173 - val_loss: 21.4893 - val_mae: 3.0544 - lr: 1.0000e-10\n"
     ]
    },
    {
     "data": {
      "text/plain": [
       "<keras.src.callbacks.History at 0x21910769410>"
      ]
     },
     "execution_count": 32,
     "metadata": {},
     "output_type": "execute_result"
    }
   ],
   "source": [
    "model.compile(optimizer='adam',loss='mse',metrics=['mae'])\n",
    "\n",
    "\n",
    "reduce_lr=callbacks.ReduceLROnPlateau(monitor='val_mae',\n",
    "                                      factor=0.1,#во скоьлко раз уменьшать скорость обучения\n",
    "                                      patience=0,\n",
    "                                      verbose=1,\n",
    "                                      mode='auto',\n",
    "                                      min_delta=0, #минимальное изменение которое должно быть\n",
    "                                      cooldown=0, #сколько эпох нам нужно подождать чтобы снова проверить нужно ли уменьшать скорость обучения\n",
    "                                      min_lr=1e-10)#минимальная скорость обучения\n",
    "\n",
    "\n",
    "model.fit(X_train,y_train,epochs=10,\n",
    "          validation_data=(X_test,y_test),\n",
    "                           callbacks=[reduce_lr])\n",
    "\n",
    "#тут в целом легко - смотрим на val-mae и если не изменяется то замедляем скорость обучения"
   ]
  },
  {
   "cell_type": "code",
   "execution_count": null,
   "metadata": {},
   "outputs": [],
   "source": []
  }
 ],
 "metadata": {
  "kernelspec": {
   "display_name": "Python 3",
   "language": "python",
   "name": "python3"
  },
  "language_info": {
   "codemirror_mode": {
    "name": "ipython",
    "version": 3
   },
   "file_extension": ".py",
   "mimetype": "text/x-python",
   "name": "python",
   "nbconvert_exporter": "python",
   "pygments_lexer": "ipython3",
   "version": "3.11.4"
  }
 },
 "nbformat": 4,
 "nbformat_minor": 2
}
